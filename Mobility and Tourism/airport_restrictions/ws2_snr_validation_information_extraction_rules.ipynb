{
 "cells": [
  {
   "cell_type": "markdown",
   "metadata": {},
   "source": [
    "# Compare the information extraction results of IATA and NOTAM data\n",
    "\n",
    "As the same information extraction rules were used to extract the restrictions imposed on foreign countries from both IATA and NOTAM data, we compare the results to determine the effectiveness of the rules\n",
    "\n",
    "### Goal\n",
    "\n",
    "Validation of information extraction rules used to extract foreign country restriction information\n",
    "\n",
    "#### Input\n",
    "\n",
    "- Timeline of restrictions obtained using NOTAM data (country_closure_timeline.csv obtained using ws2_snr_NOTAMs_country_level_restrictions_timeline.ipynb)\n",
    "\n",
    "\n",
    "- Timeline of restrictions obtained using IATA data (iata_country_closure_timeline.csv obtained using ws2_snr_humdata_country_level_restrictions_timeline.ipynb)\n",
    "\n",
    "#### Output\n",
    "\n",
    "- Effectiveness of the information extraction rules\n",
    "\n",
    "\n",
    "#### Steps taken:\n",
    "\n",
    "1. Read the restriction timeline files determined using IATA and NOTAM data\n",
    "2. Identify the common 'home' and 'other' countries present in both the dataframes\n",
    "3. Compare the 'restriction' column and plot the results"
   ]
  },
  {
   "cell_type": "code",
   "execution_count": 79,
   "metadata": {},
   "outputs": [],
   "source": [
    "import pandas as pd\n",
    "import os\n",
    "import matplotlib.pyplot as plt\n",
    "import numpy as np\n",
    "\n",
    "%matplotlib inline"
   ]
  },
  {
   "cell_type": "markdown",
   "metadata": {},
   "source": [
    "* Read the restriction timeline files determined using IATA and NOTAM data"
   ]
  },
  {
   "cell_type": "code",
   "execution_count": 2,
   "metadata": {},
   "outputs": [],
   "source": [
    "notams_df = pd.read_csv(\"/project_data/data_asset/country_closure_timeline.csv\")"
   ]
  },
  {
   "cell_type": "code",
   "execution_count": 3,
   "metadata": {},
   "outputs": [],
   "source": [
    "iata_df = pd.read_csv(\"/project_data/data_asset/iata_country_closure_timeline.csv\")"
   ]
  },
  {
   "cell_type": "markdown",
   "metadata": {},
   "source": [
    "* Identify the common 'home' and 'other' countries present in both the dataframes"
   ]
  },
  {
   "cell_type": "code",
   "execution_count": 5,
   "metadata": {
    "scrolled": true
   },
   "outputs": [],
   "source": [
    "common_home_countries = set(notams_df.home.unique()).intersection(set(iata_df.home.unique()))"
   ]
  },
  {
   "cell_type": "code",
   "execution_count": 50,
   "metadata": {
    "scrolled": true
   },
   "outputs": [],
   "source": [
    "filt_notams_df = notams_df[(notams_df.home.isin(list(common_home_countries)))&\n",
    "                          (~notams_df.restriction.isna())][[\"home\",\"other\",\"restriction\",\"active_week\"]].reset_index(drop=True)"
   ]
  },
  {
   "cell_type": "code",
   "execution_count": 51,
   "metadata": {
    "scrolled": true
   },
   "outputs": [],
   "source": [
    "filt_iata_df = iata_df[(iata_df.home.isin(list(common_home_countries)))&\n",
    "                      (~iata_df.restriction.isna())][[\"home\",\"other\",\"restriction\",\"active_week\"]].reset_index(drop=True)"
   ]
  },
  {
   "cell_type": "code",
   "execution_count": 52,
   "metadata": {
    "scrolled": true
   },
   "outputs": [],
   "source": [
    "common_home_other = filt_iata_df.merge(filt_notams_df,how='inner', left_on=['home','other','active_week'],right_on=['home','other','active_week'])"
   ]
  },
  {
   "cell_type": "code",
   "execution_count": 60,
   "metadata": {},
   "outputs": [
    {
     "data": {
      "text/html": [
       "<div>\n",
       "<style scoped>\n",
       "    .dataframe tbody tr th:only-of-type {\n",
       "        vertical-align: middle;\n",
       "    }\n",
       "\n",
       "    .dataframe tbody tr th {\n",
       "        vertical-align: top;\n",
       "    }\n",
       "\n",
       "    .dataframe thead th {\n",
       "        text-align: right;\n",
       "    }\n",
       "</style>\n",
       "<table border=\"1\" class=\"dataframe\">\n",
       "  <thead>\n",
       "    <tr style=\"text-align: right;\">\n",
       "      <th></th>\n",
       "      <th>home</th>\n",
       "      <th>other</th>\n",
       "      <th>restriction_x</th>\n",
       "      <th>active_week</th>\n",
       "      <th>restriction_y</th>\n",
       "      <th>restriction_diff</th>\n",
       "    </tr>\n",
       "  </thead>\n",
       "  <tbody>\n",
       "    <tr>\n",
       "      <th>0</th>\n",
       "      <td>AUS</td>\n",
       "      <td>AUS</td>\n",
       "      <td>4.0</td>\n",
       "      <td>32</td>\n",
       "      <td>4.0</td>\n",
       "      <td>0.0</td>\n",
       "    </tr>\n",
       "    <tr>\n",
       "      <th>1</th>\n",
       "      <td>AUS</td>\n",
       "      <td>XYZ</td>\n",
       "      <td>0.0</td>\n",
       "      <td>32</td>\n",
       "      <td>0.0</td>\n",
       "      <td>0.0</td>\n",
       "    </tr>\n",
       "    <tr>\n",
       "      <th>2</th>\n",
       "      <td>AUT</td>\n",
       "      <td>ABW</td>\n",
       "      <td>0.0</td>\n",
       "      <td>32</td>\n",
       "      <td>0.0</td>\n",
       "      <td>0.0</td>\n",
       "    </tr>\n",
       "    <tr>\n",
       "      <th>3</th>\n",
       "      <td>AUT</td>\n",
       "      <td>AFG</td>\n",
       "      <td>0.0</td>\n",
       "      <td>32</td>\n",
       "      <td>0.0</td>\n",
       "      <td>0.0</td>\n",
       "    </tr>\n",
       "    <tr>\n",
       "      <th>4</th>\n",
       "      <td>AUT</td>\n",
       "      <td>AGO</td>\n",
       "      <td>0.0</td>\n",
       "      <td>32</td>\n",
       "      <td>0.0</td>\n",
       "      <td>0.0</td>\n",
       "    </tr>\n",
       "  </tbody>\n",
       "</table>\n",
       "</div>"
      ],
      "text/plain": [
       "  home other  restriction_x  active_week  restriction_y  restriction_diff\n",
       "0  AUS   AUS            4.0           32            4.0               0.0\n",
       "1  AUS   XYZ            0.0           32            0.0               0.0\n",
       "2  AUT   ABW            0.0           32            0.0               0.0\n",
       "3  AUT   AFG            0.0           32            0.0               0.0\n",
       "4  AUT   AGO            0.0           32            0.0               0.0"
      ]
     },
     "execution_count": 60,
     "metadata": {},
     "output_type": "execute_result"
    }
   ],
   "source": [
    "common_home_other.head()"
   ]
  },
  {
   "cell_type": "markdown",
   "metadata": {},
   "source": [
    "* Compare the 'restriction' column and plot the results\n",
    "\n",
    "The restriction levels used are given below:\n",
    "\n",
    "    4 - home\n",
    "    3 - open\n",
    "    2 - restriction level not known - mention of country\n",
    "    1 - restriction level not known - mention of EU/third country\n",
    "    0 - close\n",
    "\n",
    "The column 'restriction_x' corresponds to the restriction level determined from IATA data and the column 'restriction_y' corresponds to the restriction level determined from NOTAM data\n",
    "\n",
    "We compute the difference between these two columns in order to validate the accuracy of the information extraction rules.\n"
   ]
  },
  {
   "cell_type": "code",
   "execution_count": 63,
   "metadata": {},
   "outputs": [],
   "source": [
    "common_home_other['restriction_diff']= abs(common_home_other['restriction_x'] - common_home_other['restriction_y'])"
   ]
  },
  {
   "cell_type": "code",
   "execution_count": 76,
   "metadata": {},
   "outputs": [
    {
     "data": {
      "image/png": "[encoded data removed]",
      "text/plain": [
       "<Figure size 432x288 with 1 Axes>"
      ]
     },
     "metadata": {
      "needs_background": "light"
     },
     "output_type": "display_data"
    }
   ],
   "source": [
    "plt.hist(common_home_other.restriction_diff, bins=7)\n",
    "plt.title(\" Validation of information extraction rules\")\n",
    "plt.show()"
   ]
  },
  {
   "cell_type": "code",
   "execution_count": 87,
   "metadata": {},
   "outputs": [
    {
     "data": {
      "text/plain": [
       "(array([0.66580042, 0.17376992, 0.15349965, 0.00693001]),\n",
       " array([0, 1, 2, 3, 4]))"
      ]
     },
     "execution_count": 87,
     "metadata": {},
     "output_type": "execute_result"
    }
   ],
   "source": [
    "np.histogram(common_home_other.restriction_diff, bins=[0,1,2,3,4], density=True)"
   ]
  },
  {
   "cell_type": "markdown",
   "metadata": {},
   "source": [
    "**Interpretation of the results:**\n",
    "\n",
    "* Same restriction level was achieved in 66.5% of the cases\n",
    "\n",
    "* In  32.7% (17.37% + 15.3%) of the cases, the restriciton level determined as open/close in one data source was determined as \"restriction not clear\" in the other data source\n",
    "\n",
    "* In 0.6% of the cases, the restriction level determined as open in one data source was determined as close in the other data source. \n",
    "\n",
    "\n",
    "Based on the above results, in 0.6% of the cases the information extraction rules are contradicting the information extracted from the two sources. This shows that the rules are quite effective in getting an overview of the foreign country restriciton from either IATA or NOTAM data"
   ]
  },
  {
   "cell_type": "code",
   "execution_count": 65,
   "metadata": {},
   "outputs": [
    {
     "data": {
      "text/plain": [
       "array([0., 2., 1., 3.])"
      ]
     },
     "execution_count": 65,
     "metadata": {},
     "output_type": "execute_result"
    }
   ],
   "source": [
    "common_home_other.restriction_diff.unique()"
   ]
  },
  {
   "cell_type": "code",
   "execution_count": null,
   "metadata": {
    "scrolled": true
   },
   "outputs": [],
   "source": [
    "common_home_other[common_home_other.restriction_diff==-3]"
   ]
  },
  {
   "cell_type": "code",
   "execution_count": 53,
   "metadata": {},
   "outputs": [
    {
     "data": {
      "text/plain": [
       "5772"
      ]
     },
     "execution_count": 53,
     "metadata": {},
     "output_type": "execute_result"
    }
   ],
   "source": [
    "len(common_home_other)"
   ]
  },
  {
   "cell_type": "markdown",
   "metadata": {},
   "source": [
    "**Author**\n",
    "\n",
    "* Shri Nishanth Rajendran - AI Development Specialist, R² Data Labs, Rolls Royce\n",
    "\n"
   ]
  },
  {
   "cell_type": "code",
   "execution_count": null,
   "metadata": {},
   "outputs": [],
   "source": []
  }
 ],
 "metadata": {
  "kernelspec": {
   "display_name": "Python 3",
   "language": "python",
   "name": "python3"
  },
  "language_info": {
   "codemirror_mode": {
    "name": "ipython",
    "version": 3
   },
   "file_extension": ".py",
   "mimetype": "text/x-python",
   "name": "python",
   "nbconvert_exporter": "python",
   "pygments_lexer": "ipython3",
   "version": "3.7.5"
  }
 },
 "nbformat": 4,
 "nbformat_minor": 1
}
