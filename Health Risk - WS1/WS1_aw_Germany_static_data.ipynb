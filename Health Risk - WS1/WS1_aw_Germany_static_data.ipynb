{
 "cells": [
  {
   "cell_type": "code",
   "execution_count": null,
   "metadata": {},
   "outputs": [],
   "source": [
    "import tabula\n",
    "import pandas as pd\n",
    "import numpy as np"
   ]
  },
  {
   "cell_type": "code",
   "execution_count": null,
   "metadata": {},
   "outputs": [],
   "source": [
    "!pip install tabula-py"
   ]
  },
  {
   "cell_type": "markdown",
   "metadata": {},
   "source": [
    "# Case numbers\n",
    "\n",
    "## Data Source RKI\n",
    "<<https://www.arcgis.com/sharing/rest/content/items/f10774f1c63e40168479a1feb6c7ca74/data>>\n",
    "\n",
    "Notebooks to be merged for preparation of Sarahs pipeline\n",
    "\n",
    "--> Look at the notebook WS1_aw_create_germany_data_for_pipeline"
   ]
  },
  {
   "cell_type": "markdown",
   "metadata": {},
   "source": [
    "# Health data for accessing the health situation or how well people are obeying the governmental rules\n",
    "\n",
    "## DataSource: \n",
    "<<https://dataverse.harvard.edu/dataset.xhtml?persistentId=doi:10.7910/DVN/8UTBVA>>\n",
    "\n",
    "## according to the codebook.pdf, these columns are interesting for assessing the health situation of the population\n",
    "d1_health_1 d1_health_2 d1_health_3 d1_health_4 d1_health_5\n",
    "d1_health_6 d1_health_7 d1_health_8\n",
    "d1_health_9\n",
    "\n",
    "d1_health_10 High cholesterol\n",
    "d1_health_11 d1_health_12\n",
    "d1_health_13 d1_health_98 d1_health_99\n",
    "\n",
    "HIV/ Aids\n",
    "Mental health condition Multiple Sclerosis Prefer not to say\n",
    "None of these"
   ]
  },
  {
   "cell_type": "code",
   "execution_count": null,
   "metadata": {},
   "outputs": [],
   "source": [
    "df_health= pd.read_csv(\"/project_data/data_asset/dataverse_harvard_germany.csv\",encoding=\"latin-1\")"
   ]
  },
  {
   "cell_type": "markdown",
   "metadata": {},
   "source": [
    "# Data showing the vulnerable population in Germany on regional level\n",
    "\n",
    "## Datasource: \n",
    "<<https://wido.de/fileadmin/Dateien/Dokumente/News/Pressemitteilungen/2020/2020_Monitor_Vorerkrankungen_mit_erhoehtem_Risiko_fuer_schwere_COVID-19-Verlaeufe_final.pdf>>"
   ]
  },
  {
   "cell_type": "code",
   "execution_count": null,
   "metadata": {},
   "outputs": [],
   "source": [
    "# top,left,bottom,right\n",
    "# \n",
    "\n",
    "# page 87\n",
    "df_wido1 = tabula.read_pdf(\"/project_data/data_asset/wido_dat_correct_paper_covid-19_2020.pdf\", pages = \"87\", multiple_tables = True, \n",
    "                          output_format=\"dataframe\",stream=True, area=(281.52,100,770,495),pandas_options={\"header\":None}) \n",
    "\n",
    "# page 88-94\n",
    "df_wido2 = tabula.read_pdf(\"/project_data/data_asset/wido_dat_correct_paper_covid-19_2020.pdf\", pages = \"88-94\", multiple_tables = True, \n",
    "                          output_format=\"dataframe\",stream=True, area=(132,100,770,495),pandas_options={\"header\":None}) \n",
    "\n",
    "# page 95\n",
    "df_wido3 = tabula.read_pdf(\"/project_data/data_asset/wido_dat_correct_paper_covid-19_2020.pdf\", pages = \"95\", multiple_tables = True, \n",
    "                          output_format=\"dataframe\",stream=True, area=(130.6,100.5,301,496.5),pandas_options={\"header\":None}) \n",
    "df_wido4 = tabula.read_pdf(\"/project_data/data_asset/wido_dat_correct_paper_covid-19_2020.pdf\", pages = \"95\", multiple_tables = True, \n",
    "                          output_format=\"dataframe\",stream=True, area=(333,100,760,496),pandas_options={\"header\":None}) \n",
    "\n",
    "# page 96-100\n",
    "df_wido5 = tabula.read_pdf(\"/project_data/data_asset/wido_dat_correct_paper_covid-19_2020.pdf\", pages = \"96-100\", multiple_tables = True, \n",
    "                          output_format=\"dataframe\",stream=True, area=(132,100,770,495),pandas_options={\"header\":None}) \n",
    "\n",
    "# page 101\n",
    "df_wido6 = tabula.read_pdf(\"/project_data/data_asset/wido_dat_correct_paper_covid-19_2020.pdf\", pages = \"101\", multiple_tables = True, \n",
    "                          output_format=\"dataframe\",stream=True, area=(132,100,195.51,495),pandas_options={\"header\":None}) \n"
   ]
  },
  {
   "cell_type": "code",
   "execution_count": null,
   "metadata": {},
   "outputs": [],
   "source": [
    "# concat the dataframes\n",
    "df_wido=pd.concat([df_wido1[0],df_wido2[0],df_wido3[0],df_wido4[0],df_wido5[0],df_wido6[0]])"
   ]
  },
  {
   "cell_type": "code",
   "execution_count": null,
   "metadata": {},
   "outputs": [],
   "source": [
    "len(df_wido)"
   ]
  },
  {
   "cell_type": "code",
   "execution_count": null,
   "metadata": {},
   "outputs": [],
   "source": [
    "# 1 LK is missing due to bad formatting in the pdf\n",
    "df_wido=df_wido.append({0:\"Neustadt an der Aisch\",1:30,2:\"29,9\",3:\"24,3 - 34,7\"},ignore_index=True)"
   ]
  },
  {
   "cell_type": "code",
   "execution_count": null,
   "metadata": {},
   "outputs": [],
   "source": [
    "df_wido.columns=[\"LK\",\"no of patients with at least 1 pre-condition\",\"percentage\",\"CI\"]\n",
    "df_wido.head(5)"
   ]
  },
  {
   "cell_type": "code",
   "execution_count": null,
   "metadata": {},
   "outputs": [],
   "source": [
    "# proper formatting of the columns\n",
    "df_wido[\"no of patients with at least 1 pre-condition\"]=df_wido[\"no of patients with at least 1 pre-condition\"]*1000\n",
    "df_wido[\"no of patients with at least 1 pre-condition\"].astype(int)\n",
    "df_wido[\"percentage\"]=[i.replace(\",\",\".\") for i in df_wido[\"percentage\"]]\n",
    "df_wido[\"CI\"]=[i.replace(\",\",\".\") for i in df_wido[\"CI\"]]"
   ]
  },
  {
   "cell_type": "code",
   "execution_count": null,
   "metadata": {},
   "outputs": [],
   "source": [
    "# Rearranging the names \n",
    "# Creating the first alternate names\n",
    "for row in df_wido.iterrows():\n",
    "    #print(row[1][\"LK\"])\n",
    "    try:\n",
    "        x=row[1][\"LK\"].split(\",\")\n",
    "        if \"Landkreis\" in x[1]:\n",
    "            df_wido.loc[row[0],\"LK altered\"]=str(x[1].strip(\" \"))+\" \"+str(x[0].strip(\" \"))\n",
    "    except:\n",
    "        df_wido.loc[row[0],\"LK altered\"]=row[1][\"LK\"]"
   ]
  },
  {
   "cell_type": "code",
   "execution_count": null,
   "metadata": {},
   "outputs": [],
   "source": [
    "# mapping to the Cognos Names column\n",
    "mapping=pd.read_csv(\"/project_data/data_asset/mapping_rki_cognos.csv\")"
   ]
  },
  {
   "cell_type": "code",
   "execution_count": null,
   "metadata": {},
   "outputs": [],
   "source": [
    "# load additional mapping table from Destatis\n",
    "destatis=pd.read_excel(\"/project_data/data_asset/destatis_germany_regions.xlsx\",\n",
    "                       sheet_name=\"Kreisfreie Städte u. Landkreise\", skiprows=6)"
   ]
  },
  {
   "cell_type": "code",
   "execution_count": null,
   "metadata": {},
   "outputs": [],
   "source": [
    "# destatis reformatting \n",
    "destatis.columns=[\"Cca 2\", \"regiontype\",\"name\",\"NUTS3\",\"tbr1\",\"tbr2\",\"tbr3\",\"tbr4\",\"tbr5\"]\n",
    "destatis.drop(columns=[\"tbr1\",\"tbr2\",\"tbr3\",\"tbr4\",\"tbr5\"],inplace=True)\n",
    "destatis.dropna(subset=[\"NUTS3\"],inplace=True)\n",
    "destatis.sort_values(\"name\",inplace=True)\n",
    "destatis=destatis.reset_index(drop=True)\n",
    "df_wido.sort_values(\"LK\",inplace=True)\n",
    "df_wido=df_wido.reset_index(drop=True)"
   ]
  },
  {
   "cell_type": "code",
   "execution_count": null,
   "metadata": {},
   "outputs": [],
   "source": [
    "# Creating a table for the Bundesländer\n",
    "\n",
    "# Bundesländer\n",
    "#- 01 Schleswig-Holstein (SH)\n",
    "#- 02 Hamburg (HH)\n",
    "#- 03 Niedersachsen (NI)\n",
    "#- 04 Bremen (HB)\n",
    "#- 05 Nordrhein-Westfalen (NW)\n",
    "#- 06 Hessen (HE)\n",
    "#- 07 Rheinland-Pfalz (RP)\n",
    "#- 08 Baden-Württemberg (BW)\n",
    "#- 09 Bayern (BY)\n",
    "#- 10 Saarland (SL)\n",
    "#- 11 Berlin (BE)\n",
    "#- 12 Brandenburg (BB)\n",
    "#- 13 Mecklenburg-Vorpommern (MV)\n",
    "#- 14 Sachsen (SN)\n",
    "#- 15 Sachsen-Anhalt (ST)\n",
    "#- 16 Thüringen (TH)\n",
    "df_bundesland=pd.DataFrame(data={\"Nummer\":[\"01\",\"02\",\"03\",\"04\",\"05\",\"06\",\"07\",\"08\",\"09\",\n",
    "                                           \"10\",\"11\",\"12\",\"13\",\"14\",\"15\",\"16\"], \n",
    "                                 \"Name\":[\"Schleswig-Holstein\",\"Hamburg\",\"Niedersachsen\",\n",
    "                                         \"Bremen\",\"Nordrhein-Westfalen\",\"Hessen\",\n",
    "                                         \"Rheinland-Pfalz\",\"Baden-Württemberg\",\"Bayern\",\n",
    "                                         \"Saarland\",\"Berlin\",\"Brandenburg\",\"Mecklenburg-Vorpommern\",\n",
    "                                         \"Sachsen\",\"Sachsen-Anhalt\",\"Thüringen\"]})"
   ]
  },
  {
   "cell_type": "code",
   "execution_count": null,
   "metadata": {},
   "outputs": [],
   "source": [
    "destatis[\"Bundesland\"]=\"\"\n",
    "for i in df_bundesland[\"Nummer\"]:\n",
    "    idx_1=df_bundesland[df_bundesland[\"Nummer\"]==i].index.values[0]\n",
    "    idx_2=destatis[destatis[\"Cca 2\"].str.startswith(i)].index.values\n",
    "    destatis.loc[idx_2,\"Bundesland\"]=df_bundesland.loc[idx_1,\"Name\"]"
   ]
  },
  {
   "cell_type": "code",
   "execution_count": null,
   "metadata": {},
   "outputs": [],
   "source": [
    "destatis"
   ]
  },
  {
   "cell_type": "code",
   "execution_count": null,
   "metadata": {},
   "outputs": [],
   "source": [
    "# now append the Cca 2,name,regiontype columns from destatis mapping to the wido table --> mapping to cognos\n",
    "df_wido=pd.concat([df_wido,destatis[\"Cca 2\"],destatis[\"name\"],destatis[\"regiontype\"]],axis=1,ignore_index=True)"
   ]
  },
  {
   "cell_type": "code",
   "execution_count": null,
   "metadata": {},
   "outputs": [],
   "source": [
    "df_wido.columns=['LK', 'no of patients with at least 1 pre-condition', 'percentage',\n",
    "       'CI', 'alternate name 1', 'Cca 2', 'alternate name 2', 'regiontype']"
   ]
  },
  {
   "cell_type": "code",
   "execution_count": null,
   "metadata": {},
   "outputs": [],
   "source": [
    "df_wido.head(5)"
   ]
  },
  {
   "cell_type": "code",
   "execution_count": null,
   "metadata": {},
   "outputs": [],
   "source": [
    "mapping.head(5)"
   ]
  },
  {
   "cell_type": "code",
   "execution_count": null,
   "metadata": {},
   "outputs": [],
   "source": [
    "mapping_ger=pd.DataFrame(columns=[\"Land\",\"Bundesland\",\"Landkreis Typ\",\"Landkreis Name 1\",\"Landkreis Name 2\",\n",
    "                                  \"Landkreis Name 3\",\"Cca 2\",\"NUTS3\",\"IBM Cognos Name\",\"RKI Name\"])"
   ]
  },
  {
   "cell_type": "code",
   "execution_count": null,
   "metadata": {},
   "outputs": [],
   "source": [
    "mapping_ger.loc[:,\"RKI Name\"]=mapping[\"rki name\"]\n",
    "mapping_ger.loc[:,\"IBM Cognos Name\"]=mapping[\"cognos name\"]\n",
    "mapping_ger.loc[:,\"Cca 2\"]=mapping[\"Cca 2\"]"
   ]
  },
  {
   "cell_type": "code",
   "execution_count": null,
   "metadata": {},
   "outputs": [],
   "source": [
    "mapping_ger.loc[:,\"Land\"]=\"Germany\""
   ]
  },
  {
   "cell_type": "code",
   "execution_count": null,
   "metadata": {},
   "outputs": [],
   "source": [
    "# strip off the 0 from the Cca 2 codes in df_wido[\"Cca 2\"]\n",
    "df_wido[\"Cca 2\"]=[int(i) for i in df_wido[\"Cca 2\"]]\n",
    "destatis[\"Cca 2\"]=[int(i) for i in destatis[\"Cca 2\"]]"
   ]
  },
  {
   "cell_type": "code",
   "execution_count": null,
   "metadata": {
    "scrolled": false
   },
   "outputs": [],
   "source": [
    "for code in mapping_ger[\"Cca 2\"]:\n",
    "    idx_1=mapping_ger[mapping_ger[\"Cca 2\"]==code].index.values[0]\n",
    "    idx_2=df_wido[df_wido[\"Cca 2\"]==code].index.values[0]\n",
    "    idx_3=destatis[destatis[\"Cca 2\"]==code].index.values[0]\n",
    "    mapping_ger.loc[idx_1,\"Landkreis Typ\"]=df_wido.loc[idx_2,\"regiontype\"]\n",
    "    mapping_ger.loc[idx_1,\"Landkreis Name 1\"]=df_wido.loc[idx_2,\"LK\"]\n",
    "    mapping_ger.loc[idx_1,\"Landkreis Name 2\"]=df_wido.loc[idx_2,\"alternate name 1\"]\n",
    "    mapping_ger.loc[idx_1,\"Landkreis Name 3\"]=df_wido.loc[idx_2,\"alternate name 1\"]\n",
    "    mapping_ger.loc[idx_1,\"NUTS3\"]=destatis.loc[idx_3,\"NUTS3\"]\n",
    "    mapping_ger.loc[idx_1,\"Bundesland\"]=destatis.loc[idx_3,\"Bundesland\"]"
   ]
  },
  {
   "cell_type": "code",
   "execution_count": null,
   "metadata": {},
   "outputs": [],
   "source": [
    "mapping_ger.head(5)"
   ]
  },
  {
   "cell_type": "code",
   "execution_count": null,
   "metadata": {},
   "outputs": [],
   "source": [
    "mapping_ger.to_csv(\"../mapping_table_germany.csv\",index_label=False)"
   ]
  },
  {
   "cell_type": "code",
   "execution_count": null,
   "metadata": {},
   "outputs": [],
   "source": [
    "# Mapping of the precondition table to cognos names\n",
    "for code in df_wido[\"Cca 2\"]:\n",
    "    idx_1=df_wido[df_wido[\"Cca 2\"]==code].index.values[0]\n",
    "    idx_2=mapping_ger[mapping_ger[\"Cca 2\"]==code].index.values[0]\n",
    "    df_wido.loc[idx_1,\"cognos name\"]=mapping_ger.loc[idx_2,\"IBM Cognos Name\"]"
   ]
  },
  {
   "cell_type": "code",
   "execution_count": null,
   "metadata": {},
   "outputs": [],
   "source": [
    "df_wido.to_csv(\"../Germany_population_precondition_regions.csv\")"
   ]
  },
  {
   "cell_type": "markdown",
   "metadata": {},
   "source": [
    "# Population by age and region\n",
    "\n",
    "## Data Source: \n",
    "<<https://www-genesis.destatis.de/genesis//online?operation=table&code=12411-0017&bypass=true&levelindex=1&levelid=1594666073068>>"
   ]
  },
  {
   "cell_type": "code",
   "execution_count": null,
   "metadata": {},
   "outputs": [],
   "source": [
    "df_age=pd.read_csv(\"../Germany_population_raw_12411-0017.csv\",encoding=\"latin-1\",sep=\";\",skiprows=5)"
   ]
  },
  {
   "cell_type": "code",
   "execution_count": null,
   "metadata": {},
   "outputs": [],
   "source": [
    "df_age.columns"
   ]
  },
  {
   "cell_type": "code",
   "execution_count": null,
   "metadata": {},
   "outputs": [],
   "source": [
    "new_columns=[\"Timestamp\",\"Cca 2\",\"Landkreis\",'unter 3 Jahre',\n",
    "       '3 bis unter 6 Jahre', '6 bis unter 10 Jahre', '10 bis unter 15 Jahre',\n",
    "       '15 bis unter 18 Jahre', '18 bis unter 20 Jahre',\n",
    "       '20 bis unter 25 Jahre', '25 bis unter 30 Jahre',\n",
    "       '30 bis unter 35 Jahre', '35 bis unter 40 Jahre',\n",
    "       '40 bis unter 45 Jahre', '45 bis unter 50 Jahre',\n",
    "       '50 bis unter 55 Jahre', '55 bis unter 60 Jahre',\n",
    "       '60 bis unter 65 Jahre', '65 bis unter 75 Jahre', '75 Jahre und mehr',\n",
    "       'Insgesamt']\n",
    "df_age.columns=new_columns\n",
    "df_age.head(5)"
   ]
  },
  {
   "cell_type": "code",
   "execution_count": null,
   "metadata": {},
   "outputs": [],
   "source": [
    "# Drop rows with no entries:\n",
    "df_age = df_age.drop(df_age[df_age[\"Insgesamt\"]==\"-\"].index)"
   ]
  },
  {
   "cell_type": "code",
   "execution_count": null,
   "metadata": {},
   "outputs": [],
   "source": [
    "len(df_age)"
   ]
  },
  {
   "cell_type": "code",
   "execution_count": null,
   "metadata": {},
   "outputs": [],
   "source": [
    "# Mapping of the age table to cognos names\n",
    "for code in mapping_ger[\"Cca 2\"]:\n",
    "    idx_1=df_age[df_age[\"Cca 2\"]==code].index.values[0]\n",
    "    idx_2=mapping_ger[mapping_ger[\"Cca 2\"]==int(code)].index.values[0]\n",
    "    df_age.loc[idx_1,\"cognos name\"]=mapping_ger.loc[idx_2,\"IBM Cognos Name\"]"
   ]
  },
  {
   "cell_type": "code",
   "execution_count": null,
   "metadata": {},
   "outputs": [],
   "source": [
    "df_age.dropna(subset=[\"cognos name\"],inplace=True)"
   ]
  },
  {
   "cell_type": "code",
   "execution_count": null,
   "metadata": {},
   "outputs": [],
   "source": [
    "df_age.tail(5)"
   ]
  },
  {
   "cell_type": "code",
   "execution_count": null,
   "metadata": {},
   "outputs": [],
   "source": [
    "df_age.to_csv(\"../Germany_demographic_distribution_regions.csv\")"
   ]
  },
  {
   "cell_type": "markdown",
   "metadata": {},
   "source": [
    "# life expectancy\n",
    "\n",
    "## Data Source\n",
    "<<https://www.destatis.de/EN/Themes/Society-Environment/Population/Deaths-Life-Expectancy/Tables/life-expectancy-laender-male.html>>\n",
    "\n",
    "Needs to be downsampled to regional level\n"
   ]
  },
  {
   "cell_type": "code",
   "execution_count": null,
   "metadata": {},
   "outputs": [],
   "source": [
    "df_life_male=pd.read_csv(\"../Life_expectancy_germany_male.csv\",sep=\";\",skiprows=1)\n",
    "df_life_female=pd.read_csv(\"../Life_expectancy_germany_female.csv\",sep=\";\",skiprows=1)"
   ]
  },
  {
   "cell_type": "code",
   "execution_count": null,
   "metadata": {},
   "outputs": [],
   "source": [
    "df_life_female.drop([0],inplace=True)\n",
    "df_life_male.drop([0],inplace=True)\n",
    "columns_fem=[\"Bundesland\",\"fem life expectancy at the age of 0\",\"fem life expectancy at the age of 1\",\"fem life expectancy at the age of 20\",\n",
    "        \"fem life expectancy at the age of 40\",\"fem life expectancy at the age of 60\",\"fem life expectancy at the age of 65\",\n",
    "        \"fem life expectancy at the age of 80\"]\n",
    "columns_male=[\"Bundesland\",\"male life expectancy at the age of 0\",\"male life expectancy at the age of 1\",\"male life expectancy at the age of 20\",\n",
    "        \"male life expectancy at the age of 40\",\"male life expectancy at the age of 60\",\"male life expectancy at the age of 65\",\n",
    "        \"male life expectancy at the age of 80\"]\n",
    "df_life_female.columns=columns_fem\n",
    "df_life_male.columns=columns_male\n",
    "\n",
    "df_life_female.head(5)"
   ]
  },
  {
   "cell_type": "code",
   "execution_count": null,
   "metadata": {},
   "outputs": [],
   "source": [
    "# join the dataframes\n",
    "df_life=pd.merge(df_life_female,df_life_male,on=\"Bundesland\")"
   ]
  },
  {
   "cell_type": "code",
   "execution_count": null,
   "metadata": {},
   "outputs": [],
   "source": [
    "columns_regions=[\"Bundesland\",\"Cca 2\",\"cognos name\",'fem life expectancy at the age of 0','fem life expectancy at the age of 1',\n",
    "       'fem life expectancy at the age of 20',\n",
    "       'fem life expectancy at the age of 40',\n",
    "       'fem life expectancy at the age of 60',\n",
    "       'fem life expectancy at the age of 65',\n",
    "       'fem life expectancy at the age of 80',\n",
    "       'male life expectancy at the age of 0',\n",
    "       'male life expectancy at the age of 1',\n",
    "       'male life expectancy at the age of 20',\n",
    "       'male life expectancy at the age of 40',\n",
    "       'male life expectancy at the age of 60',\n",
    "       'male life expectancy at the age of 65',\n",
    "       'male life expectancy at the age of 80']\n",
    "from collections import Counter\n",
    "columns_copy=list(Counter(columns_regions)-Counter([\"Bundesland\",\"Cca 2\",\"cognos name\"]))"
   ]
  },
  {
   "cell_type": "code",
   "execution_count": null,
   "metadata": {},
   "outputs": [],
   "source": [
    "df_life_regions=pd.DataFrame(columns=columns_regions)"
   ]
  },
  {
   "cell_type": "code",
   "execution_count": null,
   "metadata": {},
   "outputs": [],
   "source": [
    "# downsample to regions and align the names with cognos names\n",
    "# add columns for Landkreise and add columns for Cca 2 and cognos name\n",
    "\n",
    "df_life_regions[[\"Bundesland\",\"Cca 2\",\"cognos name\"]]=mapping_ger[[\"Bundesland\",\"Cca 2\",\"IBM Cognos Name\"]]\n",
    "\n",
    "for bl in df_life_regions[\"Bundesland\"]:\n",
    "    idx_1=df_life[df_life[\"Bundesland\"]==bl].index.values[0]\n",
    "    idx_2=df_life_regions[df_life_regions[\"Bundesland\"]==bl.strip(\" \")].index.values\n",
    "    df_life_regions.loc[idx_2,columns_copy]=df_life.loc[idx_1,columns_copy].values"
   ]
  },
  {
   "cell_type": "code",
   "execution_count": null,
   "metadata": {},
   "outputs": [],
   "source": [
    "df_life_regions.to_csv(\"../Germany_life_expectation.csv\",index_label=False)"
   ]
  },
  {
   "cell_type": "markdown",
   "metadata": {},
   "source": [
    "# Hospital beds per 1000 citizens\n",
    "\n",
    "## Data Source\n",
    "<<http://www.gbe-bund.de/oowa921-install/servlet/oowa/aw92/WS0100/_XWD_FORMPROC>>"
   ]
  },
  {
   "cell_type": "code",
   "execution_count": null,
   "metadata": {},
   "outputs": [],
   "source": [
    "df_beds=pd.read_csv(\"../Hospital_beds_germany.csv\",sep=\";\",skiprows=2,dtype=str)"
   ]
  },
  {
   "cell_type": "code",
   "execution_count": null,
   "metadata": {},
   "outputs": [],
   "source": [
    "df_beds.head(5)"
   ]
  },
  {
   "cell_type": "code",
   "execution_count": null,
   "metadata": {},
   "outputs": [],
   "source": [
    "# drop summation rows\n",
    "df_beds.drop([0,17],inplace=True)"
   ]
  },
  {
   "cell_type": "code",
   "execution_count": null,
   "metadata": {},
   "outputs": [],
   "source": [
    "# reformatting\n",
    "df_beds[\" Betten Anzahl\"]=[int(i.replace(\".\",\"\")) for i in df_beds[\" Betten Anzahl\"]]\n",
    "df_beds[\"Betten je 100.000 Einwohner\"]=[i.replace(\",\",\".\") for i in df_beds[\"Betten je 100.000 Einwohner\"]]\n",
    "df_beds[\" Nutzungsgrad in Prozent\"]=[i.replace(\",\",\".\") for i in df_beds[\" Nutzungsgrad in Prozent\"]]"
   ]
  },
  {
   "cell_type": "code",
   "execution_count": null,
   "metadata": {},
   "outputs": [],
   "source": [
    "df_beds.head(5)"
   ]
  },
  {
   "cell_type": "code",
   "execution_count": null,
   "metadata": {},
   "outputs": [],
   "source": [
    "# add columns for Landkreise and add columns for Cca 2 and cognos name\n",
    "df_beds_lk=pd.DataFrame(columns=[\"beds per 100000 citizens\",\"Bundesland\", \"Cca 2\", \"cognos name\"])\n",
    "df_beds_lk[[\"Bundesland\",\"Cca 2\",\"cognos name\"]]=mapping_ger[[\"Bundesland\",\"Cca 2\",\"IBM Cognos Name\"]]"
   ]
  },
  {
   "cell_type": "code",
   "execution_count": null,
   "metadata": {},
   "outputs": [],
   "source": [
    "for bl in df_beds[\"Unnamed: 0\"]:\n",
    "    idx_1=df_beds[df_beds[\"Unnamed: 0\"]==bl].index.values[0]\n",
    "    idx_2=df_beds_lk[df_beds_lk[\"Bundesland\"]==bl.strip(\" \")].index.values\n",
    "    df_beds_lk.loc[idx_2,\"beds per 100000 citizens\"]=df_beds.loc[idx_1,\"Betten je 100.000 Einwohner\"]"
   ]
  },
  {
   "cell_type": "code",
   "execution_count": null,
   "metadata": {},
   "outputs": [],
   "source": [
    "df_beds_lk.head(5)"
   ]
  },
  {
   "cell_type": "code",
   "execution_count": null,
   "metadata": {},
   "outputs": [],
   "source": [
    "df_beds_lk.to_csv(\"../Germany_hospital_beds_regions.csv\",index_label=False)"
   ]
  },
  {
   "cell_type": "markdown",
   "metadata": {},
   "source": [
    "# Population density\n",
    "\n",
    "## Data Source\n",
    "<<https://www-genesis.destatis.de/gis/genView?GenMLURL=https://www-genesis.destatis.de/regatlas/AI002-1.xml&CONTEXT=REGATLAS01>>"
   ]
  },
  {
   "cell_type": "code",
   "execution_count": null,
   "metadata": {},
   "outputs": [],
   "source": [
    "df_density=pd.read_csv(\"../population_density_germany_raw.csv\",sep=\";\")"
   ]
  },
  {
   "cell_type": "code",
   "execution_count": null,
   "metadata": {},
   "outputs": [],
   "source": [
    "df_density.head(5)"
   ]
  },
  {
   "cell_type": "code",
   "execution_count": null,
   "metadata": {},
   "outputs": [],
   "source": [
    "df_density.columns"
   ]
  },
  {
   "cell_type": "code",
   "execution_count": null,
   "metadata": {},
   "outputs": [],
   "source": [
    "df_density.drop(columns=[\"Unnamed: 3\",\"Unnamed: 4\",\"Unnamed: 5\",\"Unnamed: 6\",\" Name\"],inplace=True)\n",
    "df_density.columns=[\"Cca 2\",\"population density\"]"
   ]
  },
  {
   "cell_type": "code",
   "execution_count": null,
   "metadata": {},
   "outputs": [],
   "source": [
    "for name in mapping_ger[\"Cca 2\"]:\n",
    "    idx_1=mapping_ger[mapping_ger[\"Cca 2\"]==name].index.values[0]\n",
    "    idx_2=df_density[df_density[\"Cca 2\"]==name].index.values[0]\n",
    "    df_density.loc[idx_2,\"cognos name\"]=mapping_ger.loc[idx_1,\"IBM Cognos Name\"]"
   ]
  },
  {
   "cell_type": "code",
   "execution_count": null,
   "metadata": {},
   "outputs": [],
   "source": [
    "df_density.head(5)"
   ]
  },
  {
   "cell_type": "code",
   "execution_count": null,
   "metadata": {},
   "outputs": [],
   "source": [
    "df_density.to_csv(\"../Germany_population_density.csv\",index_label=False)"
   ]
  },
  {
   "cell_type": "markdown",
   "metadata": {},
   "source": [
    "# ICU Bed capacity\n",
    "\n",
    "## Data Source\n",
    "<<https://www.intensivregister.de/#/intensivregister?tab=laendertabelle>>\n",
    "<<https://www.divi.de/divi-intensivregister-tagesreport-archiv-csv/divi-intensivregister-2020-07-15-12-15/viewdocument/4108>>\n",
    "\n",
    "## ATTENTION\n",
    "The table is updated daily, but official usage is not allowed... one needs to contact the DIVI.\n",
    "\n",
    "In the archive you can only download the daily files."
   ]
  },
  {
   "cell_type": "code",
   "execution_count": null,
   "metadata": {},
   "outputs": [],
   "source": [
    "df_divi=pd.read_csv(\"../DIVI-Intensivregister_2020-07-15_12-15.csv\")"
   ]
  },
  {
   "cell_type": "code",
   "execution_count": null,
   "metadata": {},
   "outputs": [],
   "source": [
    "df_divi.columns"
   ]
  },
  {
   "cell_type": "code",
   "execution_count": null,
   "metadata": {},
   "outputs": [],
   "source": [
    "df_divi.drop(columns=[\"anzahl_meldebereiche\",\"anzahl_standorte\"],inplace=True)"
   ]
  },
  {
   "cell_type": "code",
   "execution_count": null,
   "metadata": {},
   "outputs": [],
   "source": [
    "df_divi.columns=[\"Bundesland ID\",\"Cca 2\", \"Covid Cases Hospital\", \"Covid Cases ventilated\",\"free beds\", \"occupied beds\",\"date\"]"
   ]
  },
  {
   "cell_type": "code",
   "execution_count": null,
   "metadata": {},
   "outputs": [],
   "source": [
    "df_divi.head(5)"
   ]
  },
  {
   "cell_type": "code",
   "execution_count": null,
   "metadata": {},
   "outputs": [],
   "source": [
    "for name in df_divi[\"Cca 2\"]:\n",
    "    idx_1=mapping_ger[mapping_ger[\"Cca 2\"]==name].index.values[0]\n",
    "    idx_2=df_divi[df_divi[\"Cca 2\"]==name].index.values[0]\n",
    "    df_divi.loc[idx_2,\"cognos name\"]=mapping_ger.loc[idx_1,\"IBM Cognos Name\"]"
   ]
  },
  {
   "cell_type": "code",
   "execution_count": null,
   "metadata": {},
   "outputs": [],
   "source": [
    "df_divi.to_csv(\"../Germany_ICU_capacity_20200715.csv\",index_label=False)"
   ]
  },
  {
   "cell_type": "markdown",
   "metadata": {},
   "source": [
    "# Combination of static data into one table\n",
    "\n",
    "## Data Sources\n",
    "### ICU Beds\n",
    "### Population density\n",
    "### Hospital beds per 100000 citizens\n",
    "### Life expectancy"
   ]
  },
  {
   "cell_type": "code",
   "execution_count": null,
   "metadata": {},
   "outputs": [],
   "source": []
  }
 ],
 "metadata": {
  "kernelspec": {
   "display_name": "Python 3",
   "language": "python",
   "name": "python3"
  },
  "language_info": {
   "codemirror_mode": {
    "name": "ipython",
    "version": 3
   },
   "file_extension": ".py",
   "mimetype": "text/x-python",
   "name": "python",
   "nbconvert_exporter": "python",
   "pygments_lexer": "ipython3",
   "version": "3.6.9"
  }
 },
 "nbformat": 4,
 "nbformat_minor": 2
}
