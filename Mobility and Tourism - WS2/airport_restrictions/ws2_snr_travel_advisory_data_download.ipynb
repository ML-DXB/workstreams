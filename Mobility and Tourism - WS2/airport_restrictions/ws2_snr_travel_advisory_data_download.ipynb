{
 "cells": [
  {
   "cell_type": "markdown",
   "metadata": {},
   "source": [
    "# Travel risk index from Travel advisory webpage\n",
    "\n",
    "This notebook download the travel risk index published by https://travel-advisory.info for all the countries. A job is  scheduled to download the data on a daily basis in order to get an overview of the history of travel risk indices. \n",
    "\n",
    "The files are stored under a separate directory and the filename also contains the download date\n",
    "\n",
    "Daily download of travel advisory data from https://travel-advisory.info\n",
    "\n",
    "Special thanks to Travel-Advisory for creating a free API to download the data and allowing us to use the data!"
   ]
  },
  {
   "cell_type": "code",
   "execution_count": 1,
   "metadata": {},
   "outputs": [],
   "source": [
    "import requests\n",
    "import pandas as pd\n",
    "import json\n",
    "import datetime"
   ]
  },
  {
   "cell_type": "code",
   "execution_count": 2,
   "metadata": {},
   "outputs": [],
   "source": [
    "r = requests.get(\"https://www.travel-advisory.info/api\")"
   ]
  },
  {
   "cell_type": "code",
   "execution_count": 3,
   "metadata": {},
   "outputs": [],
   "source": [
    "df = pd.DataFrame(json.loads(r.content.decode())['data'])"
   ]
  },
  {
   "cell_type": "code",
   "execution_count": 4,
   "metadata": {},
   "outputs": [],
   "source": [
    "df = df.transpose()"
   ]
  },
  {
   "cell_type": "code",
   "execution_count": 6,
   "metadata": {},
   "outputs": [],
   "source": [
    "df['score']=None\n",
    "df['sources_active']=None\n",
    "for idx, r in df.iterrows():\n",
    "    df.loc[idx,'score']=r['advisory']['score']\n",
    "    df.loc[idx,'sources_active']=r['advisory']['sources_active']\n",
    "\n",
    "df['download_date'] = datetime.date.today()"
   ]
  },
  {
   "cell_type": "code",
   "execution_count": 7,
   "metadata": {},
   "outputs": [
    {
     "data": {
      "text/html": [
       "<div>\n",
       "<style scoped>\n",
       "    .dataframe tbody tr th:only-of-type {\n",
       "        vertical-align: middle;\n",
       "    }\n",
       "\n",
       "    .dataframe tbody tr th {\n",
       "        vertical-align: top;\n",
       "    }\n",
       "\n",
       "    .dataframe thead th {\n",
       "        text-align: right;\n",
       "    }\n",
       "</style>\n",
       "<table border=\"1\" class=\"dataframe\">\n",
       "  <thead>\n",
       "    <tr style=\"text-align: right;\">\n",
       "      <th></th>\n",
       "      <th>advisory</th>\n",
       "      <th>continent</th>\n",
       "      <th>iso_alpha2</th>\n",
       "      <th>name</th>\n",
       "      <th>score</th>\n",
       "      <th>sources_active</th>\n",
       "      <th>download_date</th>\n",
       "    </tr>\n",
       "  </thead>\n",
       "  <tbody>\n",
       "    <tr>\n",
       "      <th>AD</th>\n",
       "      <td>{'score': 3.5, 'sources_active': 4, 'message':...</td>\n",
       "      <td>EU</td>\n",
       "      <td>AD</td>\n",
       "      <td>Andorra</td>\n",
       "      <td>3.5</td>\n",
       "      <td>4</td>\n",
       "      <td>2020-08-14</td>\n",
       "    </tr>\n",
       "    <tr>\n",
       "      <th>AE</th>\n",
       "      <td>{'score': 3.6, 'sources_active': 7, 'message':...</td>\n",
       "      <td>AS</td>\n",
       "      <td>AE</td>\n",
       "      <td>United Arab Emirates</td>\n",
       "      <td>3.6</td>\n",
       "      <td>7</td>\n",
       "      <td>2020-08-14</td>\n",
       "    </tr>\n",
       "    <tr>\n",
       "      <th>AF</th>\n",
       "      <td>{'score': 5, 'sources_active': 10, 'message': ...</td>\n",
       "      <td>AS</td>\n",
       "      <td>AF</td>\n",
       "      <td>Afghanistan</td>\n",
       "      <td>5</td>\n",
       "      <td>10</td>\n",
       "      <td>2020-08-14</td>\n",
       "    </tr>\n",
       "    <tr>\n",
       "      <th>AG</th>\n",
       "      <td>{'score': 4, 'sources_active': 3, 'message': '...</td>\n",
       "      <td>NA</td>\n",
       "      <td>AG</td>\n",
       "      <td>Antigua and Barbuda</td>\n",
       "      <td>4</td>\n",
       "      <td>3</td>\n",
       "      <td>2020-08-14</td>\n",
       "    </tr>\n",
       "    <tr>\n",
       "      <th>AI</th>\n",
       "      <td>{'score': 4, 'sources_active': 3, 'message': '...</td>\n",
       "      <td>NA</td>\n",
       "      <td>AI</td>\n",
       "      <td>Anguilla</td>\n",
       "      <td>4</td>\n",
       "      <td>3</td>\n",
       "      <td>2020-08-14</td>\n",
       "    </tr>\n",
       "  </tbody>\n",
       "</table>\n",
       "</div>"
      ],
      "text/plain": [
       "                                             advisory continent iso_alpha2  \\\n",
       "AD  {'score': 3.5, 'sources_active': 4, 'message':...        EU         AD   \n",
       "AE  {'score': 3.6, 'sources_active': 7, 'message':...        AS         AE   \n",
       "AF  {'score': 5, 'sources_active': 10, 'message': ...        AS         AF   \n",
       "AG  {'score': 4, 'sources_active': 3, 'message': '...        NA         AG   \n",
       "AI  {'score': 4, 'sources_active': 3, 'message': '...        NA         AI   \n",
       "\n",
       "                    name score sources_active download_date  \n",
       "AD               Andorra   3.5              4    2020-08-14  \n",
       "AE  United Arab Emirates   3.6              7    2020-08-14  \n",
       "AF           Afghanistan     5             10    2020-08-14  \n",
       "AG   Antigua and Barbuda     4              3    2020-08-14  \n",
       "AI              Anguilla     4              3    2020-08-14  "
      ]
     },
     "execution_count": 7,
     "metadata": {},
     "output_type": "execute_result"
    }
   ],
   "source": [
    "df.head()"
   ]
  },
  {
   "cell_type": "code",
   "execution_count": 8,
   "metadata": {},
   "outputs": [],
   "source": [
    "today_date = str(datetime.date.today()).replace(\"-\",'')\n",
    "\n",
    "filename = \"travel_advisory_data_{}.csv\".format(today_date)"
   ]
  },
  {
   "cell_type": "code",
   "execution_count": 9,
   "metadata": {},
   "outputs": [],
   "source": [
    "df.to_csv(\"/project_data/data_asset/travel_advisory/sun/{}\".format(filename),index=False)"
   ]
  },
  {
   "cell_type": "markdown",
   "metadata": {},
   "source": [
    "**Author**\n",
    "\n",
    "\n",
    "* Shri Nishanth Rajendran - AI Development Specialist, R² Data Labs, Rolls Royce"
   ]
  },
  {
   "cell_type": "code",
   "execution_count": null,
   "metadata": {},
   "outputs": [],
   "source": []
  }
 ],
 "metadata": {
  "kernelspec": {
   "display_name": "Python 3",
   "language": "python",
   "name": "python3"
  },
  "language_info": {
   "codemirror_mode": {
    "name": "ipython",
    "version": 3
   },
   "file_extension": ".py",
   "mimetype": "text/x-python",
   "name": "python",
   "nbconvert_exporter": "python",
   "pygments_lexer": "ipython3",
   "version": "3.7.5"
  }
 },
 "nbformat": 4,
 "nbformat_minor": 1
}
