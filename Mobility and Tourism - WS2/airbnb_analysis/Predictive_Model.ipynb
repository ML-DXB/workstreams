{
 "cells": [
  {
   "cell_type": "markdown",
   "metadata": {},
   "source": [
    "# Impact of Covid-19 on tourism: Predictive model\n",
    "\n",
    "The tourism industry has been masively affected by the Covid-19 situation. One of the indicators for travelling is the number of Airbnb reviews, treated here as demand. \n",
    "\n",
    "This notebook builds a predictive model to compare the actual Airbnb demand with the forecasted Airbnb demand if Covid-19 did not occur.\n",
    "\n",
    "**Input:**\n",
    "Bristol_reviews.csv \n",
    "This dataset is the reviews file downloaded from http://insideairbnb.com/get-the-data.html. It contains all the reviews up to the last scraped date.\n",
    "\n",
    "**Output:**\n",
    "Bristol_forecast_components.csv\n",
    "Bristol_reviews_prediction.csv\n",
    "The first output represents the forecast components, namely the overall trend and the yearly trend. The second output contains the actual preporcessed data, the training data and the forecast data.\n",
    "\n",
    "**Steps**\n",
    "1. Preprocess the data and aggregate it by month.\n",
    "2. Build a predictive model using FB Prophet and plot the data\n",
    "3. Export the data to create a dashboard\n",
    "\n"
   ]
  },
  {
   "cell_type": "code",
   "execution_count": null,
   "metadata": {
    "scrolled": true
   },
   "outputs": [],
   "source": [
    "# Install all the dependencies \n",
    "\n",
    "import pandas as pd\n",
    "import numpy as np\n",
    "from datetime import datetime\n",
    "import matplotlib.pyplot as plt\n",
    "import matplotlib.ticker as ticker\n",
    "\n",
    "!pip install html5lib\n",
    "!pip install wget\n",
    "\n",
    "import requests\n",
    "from bs4 import BeautifulSoup\n",
    "import pandas as pd\n",
    "import io\n",
    "import html5lib\n",
    "from tqdm import tqdm\n",
    "import gzip, requests, zipfile, io\n",
    "from datetime import datetime\n",
    "import os\n",
    "from os import listdir\n",
    "from os.path import isfile, join\n",
    "import matplotlib.pyplot as plt\n",
    "import wget\n",
    "import gzip\n",
    "import shutil\n",
    "import glob\n",
    "!pip install fbprophet\n",
    "import fbprophet"
   ]
  },
  {
   "cell_type": "markdown",
   "metadata": {},
   "source": [
    "## Preprocess the data "
   ]
  },
  {
   "cell_type": "code",
   "execution_count": null,
   "metadata": {},
   "outputs": [],
   "source": [
    "# Load the reviews of a given city\n",
    "city_reviews = pd.read_csv(\"Bristol_reviews.csv\")\n",
    "\n",
    "# Format the dates\n",
    "city_reviews.date = pd.to_datetime(city_reviews.date, format=\"%Y-%m-%d\")\n",
    "city_reviews.date = city_reviews.date.apply(lambda x: x.strftime('%Y-%m'))\n",
    "\n",
    "# Count the number of reviews per month\n",
    "city_reviews['review_count'] = 0\n",
    "city_demand = city_reviews.groupby('date').agg({\n",
    "    'review_count':'count'\n",
    "}).reset_index()\n",
    "\n",
    "# Print the results\n",
    "city_demand.head()\n"
   ]
  },
  {
   "cell_type": "markdown",
   "metadata": {},
   "source": [
    "## Predict number of reviews using FB Prophet"
   ]
  },
  {
   "cell_type": "code",
   "execution_count": null,
   "metadata": {},
   "outputs": [],
   "source": [
    "# Rename the date and target columns to be used by Facebook prophet\n",
    "city_demand.rename(columns={\n",
    "    'date': 'ds', \n",
    "    'review_count': 'y'\n",
    "}, inplace=True)\n",
    "\n",
    "# Create a training set\n",
    "city_demand_train = city_demand[:-5]\n",
    "city_demand_train.tail()\n",
    "\n",
    "# Initialise the Facebook Prophet model\n",
    "model = fbprophet.Prophet(\n",
    "    daily_seasonality=False,\n",
    "    weekly_seasonality=False,\n",
    "    yearly_seasonality=False,\n",
    "    changepoint_prior_scale=0.05,\n",
    "    interval_width=0.95,\n",
    "    mcmc_samples=300)\n",
    "model.add_seasonality(name='yearly', period=365.25, fourier_order=5)\n",
    "\n",
    "# Fit the training data to the model\n",
    "model.fit(city_demand_train)\n"
   ]
  },
  {
   "cell_type": "code",
   "execution_count": null,
   "metadata": {},
   "outputs": [],
   "source": [
    "# Use the trained model to predict the number of reviews in the future\n",
    "\n",
    "forecast = model.predict(city_demand)\n",
    "forecast[['ds', 'yhat']].head()\n",
    "model.plot_components(forecast)\n",
    "plt.savefig('trends.png', fontsize=14)"
   ]
  },
  {
   "cell_type": "code",
   "execution_count": null,
   "metadata": {},
   "outputs": [],
   "source": [
    "# Reformat the data\n",
    "\n",
    "city_demand.ds = pd.to_datetime(city_demand.ds, format=\"%Y-%m\")\n",
    "city_demand.ds = city_demand.ds.apply(lambda x: x.strftime('%Y-%m-%d'))\n",
    "city_demand.ds = pd.to_datetime(city_demand.ds, format=\"%Y-%m-%d\").dt.date\n",
    "city_demand_train.ds = pd.to_datetime(city_demand_train.ds, format=\"%Y-%m\")\n",
    "city_demand_train.ds = city_demand_train.ds.apply(lambda x: x.strftime('%Y-%m-%d'))\n",
    "city_demand_train.ds = pd.to_datetime(city_demand_train.ds, format=\"%Y-%m-%d\").dt.date"
   ]
  },
  {
   "cell_type": "code",
   "execution_count": null,
   "metadata": {},
   "outputs": [],
   "source": [
    "# Plot the results\n",
    "\n",
    "plt.close()\n",
    "fig, ax = plt.subplots(figsize=(15, 5))\n",
    "\n",
    "ax.plot(city_demand_train['ds'],city_demand_train['y'], c='blue', marker='o',ms=5, linestyle='None', label = 'Train Data')\n",
    "ax.plot(city_demand['ds'],city_demand['y'], c='g', label = 'Actual Data')\n",
    "\n",
    "ax.plot(forecast['ds'],forecast['yhat'], c='r', marker='o', ms=5, linestyle='None', label='Forecast', alpha=0.5)\n",
    "plt.xticks(rotation=20,fontsize=14)\n",
    "plt.yticks(fontsize=14)\n",
    "ax.legend(fontsize=14)\n",
    "\n",
    "plt.show()\n",
    "plt.close()"
   ]
  },
  {
   "cell_type": "markdown",
   "metadata": {},
   "source": [
    "## Export the data"
   ]
  },
  {
   "cell_type": "code",
   "execution_count": null,
   "metadata": {},
   "outputs": [],
   "source": [
    "\n",
    "# Save the predictions\n",
    "city_data = pd.DataFrame(city_demand['ds'])\n",
    "city_data['Actual_Data'] = city_demand['y']\n",
    "city_data['Forecast'] = forecast['yhat']\n",
    "city_data['Train_Data'] = city_demand_train['y']\n",
    "city_data['city'] = 'Bristol'\n",
    "city_data['country'] = 'United Kingdom'\n",
    "city_data.ds = pd.to_datetime(city_data.ds, format=\"%Y-%m-%d\")\n",
    "city_data.ds = city_data.ds.apply(lambda x: x.strftime('%Y-%m'))\n",
    "city_data.long =  -2.587910\n",
    "city_data.to_csv('Bristol_reviews_prediction.csv')\n",
    "\n",
    "# Save the model components\n",
    "forecast['city'] = 'Bristol'\n",
    "forecast['country'] = 'United Kingdom'\n",
    "forecast.ds = pd.to_datetime(forecast.ds, format=\"%Y-%m-%d\")\n",
    "forecast.ds = forecast.ds.apply(lambda x: x.strftime('%Y-%m'))\n",
    "forecast.to_csv('Bristol_forecast_components.csv')"
   ]
  },
  {
   "cell_type": "markdown",
   "metadata": {},
   "source": [
    "**Authors:**\n",
    "<br>Maria Ivanciu is AI Developer in R<sup>2</sup> Data Labs, Rolls-Royce.</br>\n",
    "<br>Vincent Nelis is Senior Data Scientist with IBM Data Science & AI Elite team.</br>"
   ]
  }
 ],
 "metadata": {
  "kernelspec": {
   "display_name": "Python 3",
   "language": "python",
   "name": "python3"
  },
  "language_info": {
   "codemirror_mode": {
    "name": "ipython",
    "version": 3
   },
   "file_extension": ".py",
   "mimetype": "text/x-python",
   "name": "python",
   "nbconvert_exporter": "python",
   "pygments_lexer": "ipython3",
   "version": "3.7.3"
  }
 },
 "nbformat": 4,
 "nbformat_minor": 2
}
