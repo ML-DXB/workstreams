{
 "cells": [
  {
   "cell_type": "markdown",
   "metadata": {},
   "source": [
    "## Sentiment Analysis"
   ]
  },
  {
   "cell_type": "markdown",
   "metadata": {},
   "source": [
    "This notebook generates the sentiment of articles as features (polarity and subjectivity) and plots them over time.\n",
    "\n",
    "We use the sentiment model of TextBlob library.\n",
    "TextBlob measures sentiment through polarity ranging from -1.0 to 1.0, where 1 means a positive statement and -1 means a negative statement. \n",
    "It also calculates subjectivity which ranges from 0 to 1.0, where 0 is very objective and 1.0 is very subjective.\n",
    "\n",
    "#### Input:\n",
    "\n",
    "ws2_1_article_clean.csv: \n",
    "\n",
    "This dataset contains all the clean articles, obtained from the `ws2_1_data_preparation` notebook.\n",
    "\n",
    "#### Output:\n",
    "\n",
    "ws2_3_sentiment.csv:\n",
    "\n",
    "The code will produce the sentiment results as features. It is structured in 4 columns: an article ID, a publication date, a polarity, and a subjectivity score.\n",
    "\n",
    "#### This notebook includes the following components:\n",
    "\n",
    "- Import libraries\n",
    "- Import data\n",
    "- Sentiment Analysis: Polarity and Subjectivity\n",
    "- Save data\n",
    "- Plots of Polarity and Subjectivity Over Time "
   ]
  },
  {
   "cell_type": "markdown",
   "metadata": {},
   "source": [
    "### Import Libraries"
   ]
  },
  {
   "cell_type": "code",
   "execution_count": null,
   "metadata": {},
   "outputs": [],
   "source": [
    "# install and import libraries\n",
    "!pip install textblob\n",
    "from textblob import TextBlob\n",
    "\n",
    "import matplotlib.pyplot as plt\n",
    "import matplotlib.dates as mdates\n",
    "import numpy as np\n",
    "import pandas as pd\n",
    "import datetime as dt\n",
    "%matplotlib inline\n",
    "\n",
    "import warnings\n",
    "warnings.filterwarnings('ignore')"
   ]
  },
  {
   "cell_type": "markdown",
   "metadata": {},
   "source": [
    "### Configuration parameters"
   ]
  },
  {
   "cell_type": "code",
   "execution_count": null,
   "metadata": {},
   "outputs": [],
   "source": [
    "# The path to the output folder where all the outputs will be saved\n",
    "output_path = \"/project_data/data_asset\""
   ]
  },
  {
   "cell_type": "markdown",
   "metadata": {},
   "source": [
    "### Import Data\n",
    "Import data that is cleaned and prepared in `ws_1_data_preparation` notebook."
   ]
  },
  {
   "cell_type": "code",
   "execution_count": null,
   "metadata": {},
   "outputs": [],
   "source": [
    "articles = pd.read_csv(f\"{output_path}/ws2_1_article_clean.csv\")\n",
    "articles.head()"
   ]
  },
  {
   "cell_type": "markdown",
   "metadata": {},
   "source": [
    "### Sentiment Analysis: Polarity and Subjectivity"
   ]
  },
  {
   "cell_type": "code",
   "execution_count": null,
   "metadata": {},
   "outputs": [],
   "source": [
    "# sentiment analysis on 'article_clean' column \n",
    "\n",
    "articles[\"date\"] = pd.to_datetime(articles[\"date\"])\n",
    "articles['polarity'] = articles['article_clean'].apply(lambda x : TextBlob(x).sentiment.polarity)\n",
    "articles['subjectivity'] = articles['article_clean'].apply(lambda x : TextBlob(x).sentiment.subjectivity)"
   ]
  },
  {
   "cell_type": "markdown",
   "metadata": {},
   "source": [
    "### Save Data"
   ]
  },
  {
   "cell_type": "code",
   "execution_count": null,
   "metadata": {},
   "outputs": [],
   "source": [
    "# save data to the project data files\n",
    "\n",
    "articles[['article_id', 'date', 'polarity', 'subjectivity']].to_csv(f\"{output_path}/ws2_3_sentiment.csv\", index = False)"
   ]
  },
  {
   "cell_type": "markdown",
   "metadata": {},
   "source": [
    "### Plots of Polarity Over Time "
   ]
  },
  {
   "cell_type": "code",
   "execution_count": null,
   "metadata": {},
   "outputs": [],
   "source": [
    "df = articles[[\"date\", \"polarity\", \"subjectivity\"]].groupby(\"date\").mean().reset_index()\n",
    "df['rolling_polarity'] = df.polarity.rolling(window=10).mean()\n",
    "df['rolling_subjectivity'] = df.subjectivity.rolling(window=10).mean()\n",
    "ax = df.plot(x=\"date\", \n",
    "        y=[\"polarity\", \"rolling_polarity\"], \n",
    "        figsize=(20, 10), \n",
    "        fontsize=14)\n",
    "\n",
    "ax.xaxis.set_major_locator(mdates.DayLocator(interval=10))\n",
    "plt.xlabel(\"Date\", fontsize=18)\n",
    "plt.ylabel(\"Polarity\", fontsize=18)\n",
    "plt.title(\"Polarity trend over time\", fontsize=14)\n",
    "plt.show()"
   ]
  },
  {
   "cell_type": "markdown",
   "metadata": {},
   "source": [
    "### Plot of Subjectivity Over Time"
   ]
  },
  {
   "cell_type": "code",
   "execution_count": null,
   "metadata": {},
   "outputs": [],
   "source": [
    "ax = df.plot(x=\"date\", \n",
    "        y=[\"subjectivity\", \"rolling_subjectivity\"], \n",
    "        figsize=(20, 10), \n",
    "        fontsize=14)\n",
    "\n",
    "ax.xaxis.set_major_locator(mdates.DayLocator(interval=10))\n",
    "plt.xlabel(\"Date\", fontsize=18)\n",
    "plt.ylabel(\"Subjectivity\", fontsize=18)\n",
    "plt.title(\"Subjectivity trend over time\", fontsize=14)\n",
    "plt.show()"
   ]
  },
  {
   "cell_type": "markdown",
   "metadata": {},
   "source": [
    "#### Authors\n",
    "    \n",
    "* **Mehrnoosh Vahdat** is Data Scientist with Data Science & AI Elite team where she specializes in Data Science, Analytics platforms, and Machine Learning solutions.\n",
    "* **Vincent Nelis** is Senior Data Scientist with Data Science & AI Elite team where he specializes in Data Science, Analytics platforms, and Machine Learning solutions.\n",
    "* **Swetha Batta** is Lead Full Stack Developer with IBM Cloud and Cognitive Software where she specializes in Software Development, Back-end and Front-end Development."
   ]
  },
  {
   "cell_type": "markdown",
   "metadata": {},
   "source": [
    "Copyright © IBM Corp. 2020. Licensed under the Apache License, Version 2.0. Released as licensed Sample Materials."
   ]
  }
 ],
 "metadata": {
  "kernelspec": {
   "display_name": "Python 3",
   "language": "python",
   "name": "python3"
  },
  "language_info": {
   "codemirror_mode": {
    "name": "ipython",
    "version": 3
   },
   "file_extension": ".py",
   "mimetype": "text/x-python",
   "name": "python",
   "nbconvert_exporter": "python",
   "pygments_lexer": "ipython3",
   "version": "3.7.3"
  }
 },
 "nbformat": 4,
 "nbformat_minor": 2
}
